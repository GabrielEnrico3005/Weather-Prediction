{
 "cells": [
  {
   "cell_type": "code",
   "execution_count": 1,
   "metadata": {},
   "outputs": [],
   "source": [
    "#Import Libaries\n",
    "\n",
    "import pandas as pd\n",
    "from sklearn.model_selection import train_test_split\n",
    "from sklearn.preprocessing import StandardScaler\n",
    "from tensorflow.keras.models import Sequential \n",
    "from tensorflow.keras.layers import Dense\n",
    "import matplotlib.pyplot as plt\n",
    "import numpy as np\n"
   ]
  },
  {
   "cell_type": "code",
   "execution_count": 2,
   "metadata": {},
   "outputs": [],
   "source": [
    "#Import Datase \n",
    "dataset = pd.read_csv(\"./weatherHistory.csv\")\n",
    "dataset = dataset.drop(['Formatted Date','Summary','Precip Type','Loud Cover','Daily Summary'],axis=1)\n",
    "\n",
    "features = dataset.drop('Humidity', axis=1)\n",
    "target = dataset['Humidity']\n",
    "\n"
   ]
  },
  {
   "cell_type": "code",
   "execution_count": 3,
   "metadata": {},
   "outputs": [],
   "source": [
    "# SPlit Data \n",
    "\n",
    "x_train, x_temp, y_train, y_temp = train_test_split(features, target, test_size=0.2, random_state=42)\n",
    "x_val, x_test, y_val, y_test  = train_test_split(x_temp,y_temp,test_size=0.5,random_state=42)\n"
   ]
  },
  {
   "cell_type": "code",
   "execution_count": 4,
   "metadata": {},
   "outputs": [],
   "source": [
    "#Standarize \n",
    "\n",
    "scaler = StandardScaler()\n",
    "x_train = scaler.fit_transform(x_train)\n",
    "x_test = scaler.fit_transform(x_test)\n",
    "x_val = scaler.fit_transform(x_val)\n"
   ]
  },
  {
   "cell_type": "code",
   "execution_count": 5,
   "metadata": {},
   "outputs": [
    {
     "name": "stderr",
     "output_type": "stream",
     "text": [
      "c:\\Anaconda3\\envs\\deep_learning\\Lib\\site-packages\\keras\\src\\layers\\core\\dense.py:87: UserWarning: Do not pass an `input_shape`/`input_dim` argument to a layer. When using Sequential models, prefer using an `Input(shape)` object as the first layer in the model instead.\n",
      "  super().__init__(activity_regularizer=activity_regularizer, **kwargs)\n"
     ]
    }
   ],
   "source": [
    "#Build Model \n",
    "\n",
    "model = Sequential([\n",
    "    Dense(32,activation='relu',input_dim=x_train.shape[1]),\n",
    "    Dense(16,activation='relu'),\n",
    "    Dense(8,activation='relu'),\n",
    "    Dense(1, activation='linear')\n",
    "])\n",
    "\n",
    "model.compile(optimizer='adam',loss='mae',metrics=['mse'])\n",
    "#Mean Absoulute Error\n",
    "#Mean Score Error"
   ]
  },
  {
   "cell_type": "code",
   "execution_count": 6,
   "metadata": {},
   "outputs": [
    {
     "name": "stdout",
     "output_type": "stream",
     "text": [
      "Epoch 1/50\n",
      "\u001b[1m302/302\u001b[0m \u001b[32m━━━━━━━━━━━━━━━━━━━━\u001b[0m\u001b[37m\u001b[0m \u001b[1m2s\u001b[0m 2ms/step - loss: 0.4173 - mse: 0.3106 - val_loss: 0.0982 - val_mse: 0.0173\n",
      "Epoch 2/50\n",
      "\u001b[1m302/302\u001b[0m \u001b[32m━━━━━━━━━━━━━━━━━━━━\u001b[0m\u001b[37m\u001b[0m \u001b[1m0s\u001b[0m 2ms/step - loss: 0.0960 - mse: 0.0166 - val_loss: 0.0918 - val_mse: 0.0155\n",
      "Epoch 3/50\n",
      "\u001b[1m302/302\u001b[0m \u001b[32m━━━━━━━━━━━━━━━━━━━━\u001b[0m\u001b[37m\u001b[0m \u001b[1m0s\u001b[0m 1ms/step - loss: 0.0926 - mse: 0.0155 - val_loss: 0.0898 - val_mse: 0.0146\n",
      "Epoch 4/50\n",
      "\u001b[1m302/302\u001b[0m \u001b[32m━━━━━━━━━━━━━━━━━━━━\u001b[0m\u001b[37m\u001b[0m \u001b[1m0s\u001b[0m 1ms/step - loss: 0.0899 - mse: 0.0147 - val_loss: 0.0883 - val_mse: 0.0146\n",
      "Epoch 5/50\n",
      "\u001b[1m302/302\u001b[0m \u001b[32m━━━━━━━━━━━━━━━━━━━━\u001b[0m\u001b[37m\u001b[0m \u001b[1m0s\u001b[0m 1ms/step - loss: 0.0880 - mse: 0.0143 - val_loss: 0.0862 - val_mse: 0.0139\n",
      "Epoch 6/50\n",
      "\u001b[1m302/302\u001b[0m \u001b[32m━━━━━━━━━━━━━━━━━━━━\u001b[0m\u001b[37m\u001b[0m \u001b[1m0s\u001b[0m 1ms/step - loss: 0.0864 - mse: 0.0138 - val_loss: 0.0870 - val_mse: 0.0142\n",
      "Epoch 7/50\n",
      "\u001b[1m302/302\u001b[0m \u001b[32m━━━━━━━━━━━━━━━━━━━━\u001b[0m\u001b[37m\u001b[0m \u001b[1m0s\u001b[0m 1ms/step - loss: 0.0857 - mse: 0.0137 - val_loss: 0.0850 - val_mse: 0.0136\n",
      "Epoch 8/50\n",
      "\u001b[1m302/302\u001b[0m \u001b[32m━━━━━━━━━━━━━━━━━━━━\u001b[0m\u001b[37m\u001b[0m \u001b[1m0s\u001b[0m 1ms/step - loss: 0.0850 - mse: 0.0135 - val_loss: 0.0845 - val_mse: 0.0134\n",
      "Epoch 9/50\n",
      "\u001b[1m302/302\u001b[0m \u001b[32m━━━━━━━━━━━━━━━━━━━━\u001b[0m\u001b[37m\u001b[0m \u001b[1m1s\u001b[0m 2ms/step - loss: 0.0850 - mse: 0.0135 - val_loss: 0.0844 - val_mse: 0.0134\n",
      "Epoch 10/50\n",
      "\u001b[1m302/302\u001b[0m \u001b[32m━━━━━━━━━━━━━━━━━━━━\u001b[0m\u001b[37m\u001b[0m \u001b[1m0s\u001b[0m 1ms/step - loss: 0.0849 - mse: 0.0134 - val_loss: 0.0840 - val_mse: 0.0135\n",
      "Epoch 11/50\n",
      "\u001b[1m302/302\u001b[0m \u001b[32m━━━━━━━━━━━━━━━━━━━━\u001b[0m\u001b[37m\u001b[0m \u001b[1m0s\u001b[0m 1ms/step - loss: 0.0838 - mse: 0.0132 - val_loss: 0.0833 - val_mse: 0.0131\n",
      "Epoch 12/50\n",
      "\u001b[1m302/302\u001b[0m \u001b[32m━━━━━━━━━━━━━━━━━━━━\u001b[0m\u001b[37m\u001b[0m \u001b[1m0s\u001b[0m 1ms/step - loss: 0.0842 - mse: 0.0133 - val_loss: 0.0842 - val_mse: 0.0138\n",
      "Epoch 13/50\n",
      "\u001b[1m302/302\u001b[0m \u001b[32m━━━━━━━━━━━━━━━━━━━━\u001b[0m\u001b[37m\u001b[0m \u001b[1m0s\u001b[0m 1ms/step - loss: 0.0835 - mse: 0.0131 - val_loss: 0.0833 - val_mse: 0.0130\n",
      "Epoch 14/50\n",
      "\u001b[1m302/302\u001b[0m \u001b[32m━━━━━━━━━━━━━━━━━━━━\u001b[0m\u001b[37m\u001b[0m \u001b[1m1s\u001b[0m 1ms/step - loss: 0.0825 - mse: 0.0128 - val_loss: 0.0834 - val_mse: 0.0132\n",
      "Epoch 15/50\n",
      "\u001b[1m302/302\u001b[0m \u001b[32m━━━━━━━━━━━━━━━━━━━━\u001b[0m\u001b[37m\u001b[0m \u001b[1m0s\u001b[0m 1ms/step - loss: 0.0826 - mse: 0.0129 - val_loss: 0.0828 - val_mse: 0.0133\n",
      "Epoch 16/50\n",
      "\u001b[1m302/302\u001b[0m \u001b[32m━━━━━━━━━━━━━━━━━━━━\u001b[0m\u001b[37m\u001b[0m \u001b[1m0s\u001b[0m 1ms/step - loss: 0.0822 - mse: 0.0127 - val_loss: 0.0822 - val_mse: 0.0132\n",
      "Epoch 17/50\n",
      "\u001b[1m302/302\u001b[0m \u001b[32m━━━━━━━━━━━━━━━━━━━━\u001b[0m\u001b[37m\u001b[0m \u001b[1m0s\u001b[0m 1ms/step - loss: 0.0825 - mse: 0.0129 - val_loss: 0.0832 - val_mse: 0.0131\n",
      "Epoch 18/50\n",
      "\u001b[1m302/302\u001b[0m \u001b[32m━━━━━━━━━━━━━━━━━━━━\u001b[0m\u001b[37m\u001b[0m \u001b[1m0s\u001b[0m 1ms/step - loss: 0.0829 - mse: 0.0129 - val_loss: 0.0827 - val_mse: 0.0131\n",
      "Epoch 19/50\n",
      "\u001b[1m302/302\u001b[0m \u001b[32m━━━━━━━━━━━━━━━━━━━━\u001b[0m\u001b[37m\u001b[0m \u001b[1m0s\u001b[0m 1ms/step - loss: 0.0820 - mse: 0.0127 - val_loss: 0.0820 - val_mse: 0.0131\n",
      "Epoch 20/50\n",
      "\u001b[1m302/302\u001b[0m \u001b[32m━━━━━━━━━━━━━━━━━━━━\u001b[0m\u001b[37m\u001b[0m \u001b[1m0s\u001b[0m 1ms/step - loss: 0.0824 - mse: 0.0129 - val_loss: 0.0834 - val_mse: 0.0129\n",
      "Epoch 21/50\n",
      "\u001b[1m302/302\u001b[0m \u001b[32m━━━━━━━━━━━━━━━━━━━━\u001b[0m\u001b[37m\u001b[0m \u001b[1m0s\u001b[0m 1ms/step - loss: 0.0816 - mse: 0.0126 - val_loss: 0.0816 - val_mse: 0.0128\n",
      "Epoch 22/50\n",
      "\u001b[1m302/302\u001b[0m \u001b[32m━━━━━━━━━━━━━━━━━━━━\u001b[0m\u001b[37m\u001b[0m \u001b[1m0s\u001b[0m 1ms/step - loss: 0.0819 - mse: 0.0127 - val_loss: 0.0818 - val_mse: 0.0130\n",
      "Epoch 23/50\n",
      "\u001b[1m302/302\u001b[0m \u001b[32m━━━━━━━━━━━━━━━━━━━━\u001b[0m\u001b[37m\u001b[0m \u001b[1m0s\u001b[0m 1ms/step - loss: 0.0811 - mse: 0.0125 - val_loss: 0.0815 - val_mse: 0.0129\n",
      "Epoch 24/50\n",
      "\u001b[1m302/302\u001b[0m \u001b[32m━━━━━━━━━━━━━━━━━━━━\u001b[0m\u001b[37m\u001b[0m \u001b[1m0s\u001b[0m 1ms/step - loss: 0.0814 - mse: 0.0126 - val_loss: 0.0824 - val_mse: 0.0127\n",
      "Epoch 25/50\n",
      "\u001b[1m302/302\u001b[0m \u001b[32m━━━━━━━━━━━━━━━━━━━━\u001b[0m\u001b[37m\u001b[0m \u001b[1m0s\u001b[0m 1ms/step - loss: 0.0813 - mse: 0.0125 - val_loss: 0.0808 - val_mse: 0.0126\n",
      "Epoch 26/50\n",
      "\u001b[1m302/302\u001b[0m \u001b[32m━━━━━━━━━━━━━━━━━━━━\u001b[0m\u001b[37m\u001b[0m \u001b[1m0s\u001b[0m 1ms/step - loss: 0.0811 - mse: 0.0125 - val_loss: 0.0813 - val_mse: 0.0128\n",
      "Epoch 27/50\n",
      "\u001b[1m302/302\u001b[0m \u001b[32m━━━━━━━━━━━━━━━━━━━━\u001b[0m\u001b[37m\u001b[0m \u001b[1m0s\u001b[0m 1ms/step - loss: 0.0810 - mse: 0.0125 - val_loss: 0.0811 - val_mse: 0.0129\n",
      "Epoch 28/50\n",
      "\u001b[1m302/302\u001b[0m \u001b[32m━━━━━━━━━━━━━━━━━━━━\u001b[0m\u001b[37m\u001b[0m \u001b[1m0s\u001b[0m 1ms/step - loss: 0.0805 - mse: 0.0124 - val_loss: 0.0809 - val_mse: 0.0127\n",
      "Epoch 29/50\n",
      "\u001b[1m302/302\u001b[0m \u001b[32m━━━━━━━━━━━━━━━━━━━━\u001b[0m\u001b[37m\u001b[0m \u001b[1m0s\u001b[0m 1ms/step - loss: 0.0811 - mse: 0.0126 - val_loss: 0.0839 - val_mse: 0.0138\n",
      "Epoch 30/50\n",
      "\u001b[1m302/302\u001b[0m \u001b[32m━━━━━━━━━━━━━━━━━━━━\u001b[0m\u001b[37m\u001b[0m \u001b[1m0s\u001b[0m 1ms/step - loss: 0.0815 - mse: 0.0127 - val_loss: 0.0811 - val_mse: 0.0129\n",
      "Epoch 31/50\n",
      "\u001b[1m302/302\u001b[0m \u001b[32m━━━━━━━━━━━━━━━━━━━━\u001b[0m\u001b[37m\u001b[0m \u001b[1m0s\u001b[0m 1ms/step - loss: 0.0802 - mse: 0.0123 - val_loss: 0.0807 - val_mse: 0.0126\n",
      "Epoch 32/50\n",
      "\u001b[1m302/302\u001b[0m \u001b[32m━━━━━━━━━━━━━━━━━━━━\u001b[0m\u001b[37m\u001b[0m \u001b[1m0s\u001b[0m 1ms/step - loss: 0.0809 - mse: 0.0124 - val_loss: 0.0813 - val_mse: 0.0128\n",
      "Epoch 33/50\n",
      "\u001b[1m302/302\u001b[0m \u001b[32m━━━━━━━━━━━━━━━━━━━━\u001b[0m\u001b[37m\u001b[0m \u001b[1m0s\u001b[0m 1ms/step - loss: 0.0807 - mse: 0.0124 - val_loss: 0.0814 - val_mse: 0.0129\n",
      "Epoch 34/50\n",
      "\u001b[1m302/302\u001b[0m \u001b[32m━━━━━━━━━━━━━━━━━━━━\u001b[0m\u001b[37m\u001b[0m \u001b[1m0s\u001b[0m 1ms/step - loss: 0.0803 - mse: 0.0122 - val_loss: 0.0814 - val_mse: 0.0128\n",
      "Epoch 35/50\n",
      "\u001b[1m302/302\u001b[0m \u001b[32m━━━━━━━━━━━━━━━━━━━━\u001b[0m\u001b[37m\u001b[0m \u001b[1m0s\u001b[0m 1ms/step - loss: 0.0810 - mse: 0.0125 - val_loss: 0.0806 - val_mse: 0.0127\n",
      "Epoch 36/50\n",
      "\u001b[1m302/302\u001b[0m \u001b[32m━━━━━━━━━━━━━━━━━━━━\u001b[0m\u001b[37m\u001b[0m \u001b[1m0s\u001b[0m 1ms/step - loss: 0.0806 - mse: 0.0124 - val_loss: 0.0808 - val_mse: 0.0129\n",
      "Epoch 37/50\n",
      "\u001b[1m302/302\u001b[0m \u001b[32m━━━━━━━━━━━━━━━━━━━━\u001b[0m\u001b[37m\u001b[0m \u001b[1m0s\u001b[0m 1ms/step - loss: 0.0802 - mse: 0.0124 - val_loss: 0.0811 - val_mse: 0.0128\n",
      "Epoch 38/50\n",
      "\u001b[1m302/302\u001b[0m \u001b[32m━━━━━━━━━━━━━━━━━━━━\u001b[0m\u001b[37m\u001b[0m \u001b[1m0s\u001b[0m 1ms/step - loss: 0.0804 - mse: 0.0123 - val_loss: 0.0806 - val_mse: 0.0127\n",
      "Epoch 39/50\n",
      "\u001b[1m302/302\u001b[0m \u001b[32m━━━━━━━━━━━━━━━━━━━━\u001b[0m\u001b[37m\u001b[0m \u001b[1m0s\u001b[0m 1ms/step - loss: 0.0802 - mse: 0.0123 - val_loss: 0.0811 - val_mse: 0.0126\n",
      "Epoch 40/50\n",
      "\u001b[1m302/302\u001b[0m \u001b[32m━━━━━━━━━━━━━━━━━━━━\u001b[0m\u001b[37m\u001b[0m \u001b[1m0s\u001b[0m 1ms/step - loss: 0.0802 - mse: 0.0124 - val_loss: 0.0804 - val_mse: 0.0124\n",
      "Epoch 41/50\n",
      "\u001b[1m302/302\u001b[0m \u001b[32m━━━━━━━━━━━━━━━━━━━━\u001b[0m\u001b[37m\u001b[0m \u001b[1m1s\u001b[0m 1ms/step - loss: 0.0804 - mse: 0.0124 - val_loss: 0.0830 - val_mse: 0.0127\n",
      "Epoch 42/50\n",
      "\u001b[1m302/302\u001b[0m \u001b[32m━━━━━━━━━━━━━━━━━━━━\u001b[0m\u001b[37m\u001b[0m \u001b[1m0s\u001b[0m 1ms/step - loss: 0.0801 - mse: 0.0122 - val_loss: 0.0802 - val_mse: 0.0126\n",
      "Epoch 43/50\n",
      "\u001b[1m302/302\u001b[0m \u001b[32m━━━━━━━━━━━━━━━━━━━━\u001b[0m\u001b[37m\u001b[0m \u001b[1m0s\u001b[0m 1ms/step - loss: 0.0801 - mse: 0.0123 - val_loss: 0.0814 - val_mse: 0.0132\n",
      "Epoch 44/50\n",
      "\u001b[1m302/302\u001b[0m \u001b[32m━━━━━━━━━━━━━━━━━━━━\u001b[0m\u001b[37m\u001b[0m \u001b[1m0s\u001b[0m 1ms/step - loss: 0.0807 - mse: 0.0125 - val_loss: 0.0807 - val_mse: 0.0128\n",
      "Epoch 45/50\n",
      "\u001b[1m302/302\u001b[0m \u001b[32m━━━━━━━━━━━━━━━━━━━━\u001b[0m\u001b[37m\u001b[0m \u001b[1m0s\u001b[0m 1ms/step - loss: 0.0799 - mse: 0.0122 - val_loss: 0.0805 - val_mse: 0.0126\n",
      "Epoch 46/50\n",
      "\u001b[1m302/302\u001b[0m \u001b[32m━━━━━━━━━━━━━━━━━━━━\u001b[0m\u001b[37m\u001b[0m \u001b[1m0s\u001b[0m 1ms/step - loss: 0.0797 - mse: 0.0122 - val_loss: 0.0802 - val_mse: 0.0125\n",
      "Epoch 47/50\n",
      "\u001b[1m302/302\u001b[0m \u001b[32m━━━━━━━━━━━━━━━━━━━━\u001b[0m\u001b[37m\u001b[0m \u001b[1m0s\u001b[0m 1ms/step - loss: 0.0798 - mse: 0.0122 - val_loss: 0.0804 - val_mse: 0.0129\n",
      "Epoch 48/50\n",
      "\u001b[1m302/302\u001b[0m \u001b[32m━━━━━━━━━━━━━━━━━━━━\u001b[0m\u001b[37m\u001b[0m \u001b[1m0s\u001b[0m 1ms/step - loss: 0.0798 - mse: 0.0123 - val_loss: 0.0814 - val_mse: 0.0126\n",
      "Epoch 49/50\n",
      "\u001b[1m302/302\u001b[0m \u001b[32m━━━━━━━━━━━━━━━━━━━━\u001b[0m\u001b[37m\u001b[0m \u001b[1m0s\u001b[0m 1ms/step - loss: 0.0802 - mse: 0.0123 - val_loss: 0.0800 - val_mse: 0.0126\n",
      "Epoch 50/50\n",
      "\u001b[1m302/302\u001b[0m \u001b[32m━━━━━━━━━━━━━━━━━━━━\u001b[0m\u001b[37m\u001b[0m \u001b[1m0s\u001b[0m 1ms/step - loss: 0.0805 - mse: 0.0124 - val_loss: 0.0805 - val_mse: 0.0126\n"
     ]
    }
   ],
   "source": [
    "#\n",
    "history = model.fit(x_train, y_train, epochs=50,batch_size=256, validation_data=(x_val,y_val))"
   ]
  },
  {
   "cell_type": "code",
   "execution_count": 7,
   "metadata": {},
   "outputs": [
    {
     "name": "stdout",
     "output_type": "stream",
     "text": [
      "\u001b[1m302/302\u001b[0m \u001b[32m━━━━━━━━━━━━━━━━━━━━\u001b[0m\u001b[37m\u001b[0m \u001b[1m0s\u001b[0m 847us/step - loss: 0.0791 - mse: 0.0121\n"
     ]
    }
   ],
   "source": [
    "# Evaluate \n",
    "loss,mse = model.evaluate(x_test, y_test)"
   ]
  },
  {
   "cell_type": "code",
   "execution_count": 8,
   "metadata": {},
   "outputs": [
    {
     "name": "stdout",
     "output_type": "stream",
     "text": [
      "\u001b[1m1/1\u001b[0m \u001b[32m━━━━━━━━━━━━━━━━━━━━\u001b[0m\u001b[37m\u001b[0m \u001b[1m0s\u001b[0m 66ms/step\n",
      "Prediction: [0.61251956], Actual : 0.56\n",
      "Prediction: [0.936075], Actual : 0.92\n",
      "Prediction: [0.5186978], Actual : 0.49\n",
      "Prediction: [0.77059126], Actual : 0.87\n",
      "Prediction: [0.87249255], Actual : 0.89\n",
      "Prediction: [0.86845076], Actual : 0.78\n",
      "Prediction: [0.52369297], Actual : 0.69\n",
      "Prediction: [0.29368418], Actual : 0.32\n",
      "Prediction: [0.72702974], Actual : 0.56\n",
      "Prediction: [0.36177927], Actual : 0.34\n",
      "Prediction: [0.8113352], Actual : 0.87\n",
      "Prediction: [0.92924905], Actual : 0.92\n",
      "Prediction: [0.8618059], Actual : 0.88\n",
      "Prediction: [0.87934965], Actual : 0.92\n",
      "Prediction: [0.9264631], Actual : 0.99\n",
      "Prediction: [0.8306571], Actual : 0.7\n",
      "Prediction: [0.7177764], Actual : 0.71\n",
      "Prediction: [0.774408], Actual : 0.76\n",
      "Prediction: [0.81773007], Actual : 0.96\n",
      "Prediction: [0.9227427], Actual : 0.89\n"
     ]
    }
   ],
   "source": [
    "# Predict \n",
    "predictions = model.predict(x_test[:20])\n",
    "actual = np.array(y_test[:20])\n",
    "\n",
    "for i in range(20):\n",
    "    print(f\"Prediction: {predictions[i]}, Actual : {actual[i]}\")"
   ]
  },
  {
   "cell_type": "code",
   "execution_count": 12,
   "metadata": {},
   "outputs": [
    {
     "data": {
      "text/plain": [
       "Text(0.5, 1.0, 'Model Loss')"
      ]
     },
     "execution_count": 12,
     "metadata": {},
     "output_type": "execute_result"
    },
    {
     "data": {
      "image/png": "[encoded data removed]",
      "text/plain": [
       "<Figure size 640x480 with 2 Axes>"
      ]
     },
     "metadata": {},
     "output_type": "display_data"
    }
   ],
   "source": [
    "#Plotting \n",
    "plt.subplot(1,2,1)\n",
    "plt.plot(history.history['mse'],label ='training MSE')\n",
    "plt.plot(history.history['val_mse'],label='Validation MSE')\n",
    "plt.ylabel('MSE')\n",
    "plt.xlabel('Epoch')\n",
    "plt.title('Model MSE')\n",
    "\n",
    "plt.subplot(1,2,2)\n",
    "plt.plot(history.history['mse'],label ='training MSE')\n",
    "plt.plot(history.history['val_mse'],label='Validation MSE')\n",
    "plt.ylabel('Loss')\n",
    "plt.xlabel('Epoch')\n",
    "plt.title('Model Loss')"
   ]
  }
 ],
 "metadata": {
  "kernelspec": {
   "display_name": "deep_learning",
   "language": "python",
   "name": "python3"
  },
  "language_info": {
   "codemirror_mode": {
    "name": "ipython",
    "version": 3
   },
   "file_extension": ".py",
   "mimetype": "text/x-python",
   "name": "python",
   "nbconvert_exporter": "python",
   "pygments_lexer": "ipython3",
   "version": "3.12.4"
  }
 },
 "nbformat": 4,
 "nbformat_minor": 2
}
